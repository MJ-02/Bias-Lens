{
 "cells": [
  {
   "cell_type": "code",
   "execution_count": 16,
   "id": "5b212604-e45c-4371-a8dc-8d05337552ab",
   "metadata": {},
   "outputs": [],
   "source": [
    "# !pip install pandas fastparquet gliner[gpu]"
   ]
  },
  {
   "cell_type": "code",
   "execution_count": 17,
   "id": "f09248d1-e53d-4bbf-8e7e-3201534390d3",
   "metadata": {},
   "outputs": [],
   "source": [
    "from gliner import GLiNER\n",
    "import pandas as pd\n",
    "import torch "
   ]
  },
  {
   "cell_type": "code",
   "execution_count": 18,
   "id": "60e3f4a4-96f4-450e-b3d1-d2bd26d92fbb",
   "metadata": {},
   "outputs": [],
   "source": [
    "df = pd.read_parquet(\"articles.parquet\")"
   ]
  },
  {
   "cell_type": "code",
   "execution_count": 19,
   "id": "8bf5dd78-241d-47b6-b392-bf6be1311ffc",
   "metadata": {},
   "outputs": [
    {
     "data": {
      "text/html": [
       "<div>\n",
       "<style scoped>\n",
       "    .dataframe tbody tr th:only-of-type {\n",
       "        vertical-align: middle;\n",
       "    }\n",
       "\n",
       "    .dataframe tbody tr th {\n",
       "        vertical-align: top;\n",
       "    }\n",
       "\n",
       "    .dataframe thead th {\n",
       "        text-align: right;\n",
       "    }\n",
       "</style>\n",
       "<table border=\"1\" class=\"dataframe\">\n",
       "  <thead>\n",
       "    <tr style=\"text-align: right;\">\n",
       "      <th></th>\n",
       "      <th>topic</th>\n",
       "      <th>source</th>\n",
       "      <th>bias</th>\n",
       "      <th>url</th>\n",
       "      <th>title</th>\n",
       "      <th>date</th>\n",
       "      <th>authors</th>\n",
       "      <th>content</th>\n",
       "      <th>content_original</th>\n",
       "      <th>source_url</th>\n",
       "      <th>bias_text</th>\n",
       "      <th>ID</th>\n",
       "    </tr>\n",
       "  </thead>\n",
       "  <tbody>\n",
       "    <tr>\n",
       "      <th>0</th>\n",
       "      <td>race_and_racism</td>\n",
       "      <td>Yahoo! The 360</td>\n",
       "      <td>1</td>\n",
       "      <td>https://news.yahoo.com/how-do-we-address-racis...</td>\n",
       "      <td>How do we address racism in 'Gone With the Wind'?</td>\n",
       "      <td>2020-06-18</td>\n",
       "      <td>Julia Munslow</td>\n",
       "      <td>“ The 360 ” shows you diverse perspectives on ...</td>\n",
       "      <td>“The 360” shows you diverse perspectives on th...</td>\n",
       "      <td>www.news.yahoo.com</td>\n",
       "      <td>center</td>\n",
       "      <td>zzwPV6NCYsMiDb0a</td>\n",
       "    </tr>\n",
       "    <tr>\n",
       "      <th>1</th>\n",
       "      <td>white_house</td>\n",
       "      <td>Newsmax - News</td>\n",
       "      <td>2</td>\n",
       "      <td>https://www.newsmax.com/newsfront/ppe-masks-gl...</td>\n",
       "      <td>China Agrees Not to Restrict PPE Exports White...</td>\n",
       "      <td>2020-04-05</td>\n",
       "      <td>Jason Devaney</td>\n",
       "      <td>China promised it would not restrict exports o...</td>\n",
       "      <td>China promised it would not restrict exports o...</td>\n",
       "      <td>www.newsmax.com</td>\n",
       "      <td>right</td>\n",
       "      <td>zzw8ORfncyrlNR6J</td>\n",
       "    </tr>\n",
       "    <tr>\n",
       "      <th>2</th>\n",
       "      <td>coronavirus</td>\n",
       "      <td>MarketWatch</td>\n",
       "      <td>2</td>\n",
       "      <td>https://www.marketwatch.com/story/fool-me-twic...</td>\n",
       "      <td>Fool me twice? For businesses and consumers, c...</td>\n",
       "      <td>2020-04-16</td>\n",
       "      <td>Andrea Riquier</td>\n",
       "      <td>As the coronavirus outbreak claims lives , job...</td>\n",
       "      <td>As the coronavirus outbreak claims lives, jobs...</td>\n",
       "      <td>www.marketwatch.com</td>\n",
       "      <td>right</td>\n",
       "      <td>zzmg5VFM53K2PfDX</td>\n",
       "    </tr>\n",
       "    <tr>\n",
       "      <th>3</th>\n",
       "      <td>technology</td>\n",
       "      <td>The Verge</td>\n",
       "      <td>0</td>\n",
       "      <td>https://www.theverge.com/2019/11/6/20948547/tw...</td>\n",
       "      <td>Twitter is rolling out Topics, a way to follow...</td>\n",
       "      <td>2019-11-06</td>\n",
       "      <td>Casey Newton</td>\n",
       "      <td>Recently , a friend told me he wanted to spend...</td>\n",
       "      <td>Recently, a friend told me he wanted to spend ...</td>\n",
       "      <td>www.theverge.com</td>\n",
       "      <td>left</td>\n",
       "      <td>zzkjinLBHepHRGbe</td>\n",
       "    </tr>\n",
       "    <tr>\n",
       "      <th>4</th>\n",
       "      <td>cybersecurity</td>\n",
       "      <td>Bloomberg</td>\n",
       "      <td>1</td>\n",
       "      <td>http://www.bloomberg.com/politics/articles/201...</td>\n",
       "      <td>White House Outlines New Cybersecurity Initiat...</td>\n",
       "      <td>2015-01-12</td>\n",
       "      <td>Ali Elkin</td>\n",
       "      <td>Ahead of President Barack Obama 's visit to th...</td>\n",
       "      <td>SHARE THIS ARTICLE Share Tweet Post Email\\n\\nP...</td>\n",
       "      <td>www.bloomberg.com</td>\n",
       "      <td>center</td>\n",
       "      <td>zzjFSqASfeSPDsh1</td>\n",
       "    </tr>\n",
       "  </tbody>\n",
       "</table>\n",
       "</div>"
      ],
      "text/plain": [
       "             topic          source  bias  \\\n",
       "0  race_and_racism  Yahoo! The 360     1   \n",
       "1      white_house  Newsmax - News     2   \n",
       "2      coronavirus     MarketWatch     2   \n",
       "3       technology       The Verge     0   \n",
       "4    cybersecurity       Bloomberg     1   \n",
       "\n",
       "                                                 url  \\\n",
       "0  https://news.yahoo.com/how-do-we-address-racis...   \n",
       "1  https://www.newsmax.com/newsfront/ppe-masks-gl...   \n",
       "2  https://www.marketwatch.com/story/fool-me-twic...   \n",
       "3  https://www.theverge.com/2019/11/6/20948547/tw...   \n",
       "4  http://www.bloomberg.com/politics/articles/201...   \n",
       "\n",
       "                                               title        date  \\\n",
       "0  How do we address racism in 'Gone With the Wind'?  2020-06-18   \n",
       "1  China Agrees Not to Restrict PPE Exports White...  2020-04-05   \n",
       "2  Fool me twice? For businesses and consumers, c...  2020-04-16   \n",
       "3  Twitter is rolling out Topics, a way to follow...  2019-11-06   \n",
       "4  White House Outlines New Cybersecurity Initiat...  2015-01-12   \n",
       "\n",
       "          authors                                            content  \\\n",
       "0   Julia Munslow  “ The 360 ” shows you diverse perspectives on ...   \n",
       "1   Jason Devaney  China promised it would not restrict exports o...   \n",
       "2  Andrea Riquier  As the coronavirus outbreak claims lives , job...   \n",
       "3    Casey Newton  Recently , a friend told me he wanted to spend...   \n",
       "4       Ali Elkin  Ahead of President Barack Obama 's visit to th...   \n",
       "\n",
       "                                    content_original           source_url  \\\n",
       "0  “The 360” shows you diverse perspectives on th...   www.news.yahoo.com   \n",
       "1  China promised it would not restrict exports o...      www.newsmax.com   \n",
       "2  As the coronavirus outbreak claims lives, jobs...  www.marketwatch.com   \n",
       "3  Recently, a friend told me he wanted to spend ...     www.theverge.com   \n",
       "4  SHARE THIS ARTICLE Share Tweet Post Email\\n\\nP...    www.bloomberg.com   \n",
       "\n",
       "  bias_text                ID  \n",
       "0    center  zzwPV6NCYsMiDb0a  \n",
       "1     right  zzw8ORfncyrlNR6J  \n",
       "2     right  zzmg5VFM53K2PfDX  \n",
       "3      left  zzkjinLBHepHRGbe  \n",
       "4    center  zzjFSqASfeSPDsh1  "
      ]
     },
     "execution_count": 19,
     "metadata": {},
     "output_type": "execute_result"
    }
   ],
   "source": [
    "df.head()"
   ]
  },
  {
   "cell_type": "code",
   "execution_count": 20,
   "id": "9bc69280-7fda-450f-b8c3-cf5f8a1ae415",
   "metadata": {},
   "outputs": [
    {
     "data": {
      "application/vnd.jupyter.widget-view+json": {
       "model_id": "d8ff36d52eec4b9a98e27219f7742266",
       "version_major": 2,
       "version_minor": 0
      },
      "text/plain": [
       "Fetching 9 files:   0%|          | 0/9 [00:00<?, ?it/s]"
      ]
     },
     "metadata": {},
     "output_type": "display_data"
    },
    {
     "data": {
      "text/plain": [
       "GLiNER(\n",
       "  (model): SpanModel(\n",
       "    (token_rep_layer): Encoder(\n",
       "      (bert_layer): Transformer(\n",
       "        (model): DebertaV2Model(\n",
       "          (embeddings): DebertaV2Embeddings(\n",
       "            (word_embeddings): Embedding(128004, 768, padding_idx=0)\n",
       "            (LayerNorm): LayerNorm((768,), eps=1e-07, elementwise_affine=True)\n",
       "            (dropout): Dropout(p=0.1, inplace=False)\n",
       "          )\n",
       "          (encoder): DebertaV2Encoder(\n",
       "            (layer): ModuleList(\n",
       "              (0-11): 12 x DebertaV2Layer(\n",
       "                (attention): DebertaV2Attention(\n",
       "                  (self): DisentangledSelfAttention(\n",
       "                    (query_proj): Linear(in_features=768, out_features=768, bias=True)\n",
       "                    (key_proj): Linear(in_features=768, out_features=768, bias=True)\n",
       "                    (value_proj): Linear(in_features=768, out_features=768, bias=True)\n",
       "                    (pos_dropout): Dropout(p=0.1, inplace=False)\n",
       "                    (dropout): Dropout(p=0.1, inplace=False)\n",
       "                  )\n",
       "                  (output): DebertaV2SelfOutput(\n",
       "                    (dense): Linear(in_features=768, out_features=768, bias=True)\n",
       "                    (LayerNorm): LayerNorm((768,), eps=1e-07, elementwise_affine=True)\n",
       "                    (dropout): Dropout(p=0.1, inplace=False)\n",
       "                  )\n",
       "                )\n",
       "                (intermediate): DebertaV2Intermediate(\n",
       "                  (dense): Linear(in_features=768, out_features=3072, bias=True)\n",
       "                  (intermediate_act_fn): GELUActivation()\n",
       "                )\n",
       "                (output): DebertaV2Output(\n",
       "                  (dense): Linear(in_features=3072, out_features=768, bias=True)\n",
       "                  (LayerNorm): LayerNorm((768,), eps=1e-07, elementwise_affine=True)\n",
       "                  (dropout): Dropout(p=0.1, inplace=False)\n",
       "                )\n",
       "              )\n",
       "            )\n",
       "            (rel_embeddings): Embedding(512, 768)\n",
       "            (LayerNorm): LayerNorm((768,), eps=1e-07, elementwise_affine=True)\n",
       "          )\n",
       "        )\n",
       "      )\n",
       "      (projection): Linear(in_features=768, out_features=512, bias=True)\n",
       "    )\n",
       "    (rnn): LstmSeq2SeqEncoder(\n",
       "      (lstm): LSTM(512, 256, batch_first=True, bidirectional=True)\n",
       "    )\n",
       "    (span_rep_layer): SpanRepLayer(\n",
       "      (span_rep_layer): SpanMarkerV0(\n",
       "        (project_start): Sequential(\n",
       "          (0): Linear(in_features=512, out_features=2048, bias=True)\n",
       "          (1): ReLU()\n",
       "          (2): Dropout(p=0.4, inplace=False)\n",
       "          (3): Linear(in_features=2048, out_features=512, bias=True)\n",
       "        )\n",
       "        (project_end): Sequential(\n",
       "          (0): Linear(in_features=512, out_features=2048, bias=True)\n",
       "          (1): ReLU()\n",
       "          (2): Dropout(p=0.4, inplace=False)\n",
       "          (3): Linear(in_features=2048, out_features=512, bias=True)\n",
       "        )\n",
       "        (out_project): Sequential(\n",
       "          (0): Linear(in_features=1024, out_features=2048, bias=True)\n",
       "          (1): ReLU()\n",
       "          (2): Dropout(p=0.4, inplace=False)\n",
       "          (3): Linear(in_features=2048, out_features=512, bias=True)\n",
       "        )\n",
       "      )\n",
       "    )\n",
       "    (prompt_rep_layer): Sequential(\n",
       "      (0): Linear(in_features=512, out_features=2048, bias=True)\n",
       "      (1): ReLU()\n",
       "      (2): Dropout(p=0.4, inplace=False)\n",
       "      (3): Linear(in_features=2048, out_features=512, bias=True)\n",
       "    )\n",
       "  )\n",
       ")"
      ]
     },
     "execution_count": 20,
     "metadata": {},
     "output_type": "execute_result"
    }
   ],
   "source": [
    "device = torch.device('cuda:0') if torch.cuda.is_available() else torch.device('cpu')\n",
    "model = GLiNER.from_pretrained(\"EmergentMethods/gliner_medium_news-v2.1\")\n",
    "model.to(\"cuda\")"
   ]
  },
  {
   "cell_type": "code",
   "execution_count": 21,
   "id": "2bcdf1b7-fa25-4b0c-ba20-fd858a075b6d",
   "metadata": {},
   "outputs": [],
   "source": [
    "def predict_entities(text):\n",
    "    labels = [\"person\", \"location\", \"organization\"]\n",
    "    entities = model.predict_entities(text, labels)\n",
    "    return entities\n"
   ]
  },
  {
   "cell_type": "code",
   "execution_count": 22,
   "id": "9a320025-38c9-461c-b6b6-82f3ebace5fe",
   "metadata": {},
   "outputs": [],
   "source": [
    "import warnings\n",
    "warnings.filterwarnings(\"ignore\")"
   ]
  },
  {
   "cell_type": "code",
   "execution_count": 23,
   "id": "75aadbd2-7e2e-4564-8992-aa7ea56f8928",
   "metadata": {},
   "outputs": [
    {
     "name": "stderr",
     "output_type": "stream",
     "text": [
      "Asking to truncate to max_length but no maximum length is provided and the model has no predefined maximum length. Default to no truncation.\n"
     ]
    }
   ],
   "source": [
    "# from tqdm import tqdm\n",
    "# entities = {}\n",
    "\n",
    "# for _, row in tqdm(df.iterrows()):\n",
    "#     entities[\"id\"] = row[\"ID\"]\n",
    "#     entities[\"id\"][\"entities\"] = predict_entities(row[\"content\"])\n",
    "%%time\n",
    "df[\"entities\"] = df[\"content\"].apply(predict_entities)"
   ]
  },
  {
   "cell_type": "code",
   "execution_count": 25,
   "id": "d86d28f4-54fb-4495-8e42-d3a6b7c0c1c3",
   "metadata": {},
   "outputs": [],
   "source": [
    "df[[\"ID\",\"entities\" ]].to_json(\"entities.json\")"
   ]
  },
  {
   "cell_type": "code",
   "execution_count": null,
   "id": "1831bdfc-3743-4d3a-90cc-6431195003a0",
   "metadata": {},
   "outputs": [],
   "source": [
    "import json \n",
    "json_object = json.dumps(entities, indent=4)\n",
    " \n",
    "# Writing to sample.json\n",
    "with open(\"entities.json\", \"w\") as outfile:\n",
    "    outfile.write(json_object)"
   ]
  },
  {
   "cell_type": "code",
   "execution_count": null,
   "id": "2cee28c4-b0dd-4c22-a618-a40117b86624",
   "metadata": {},
   "outputs": [],
   "source": []
  }
 ],
 "metadata": {
  "kernelspec": {
   "display_name": "Python 3 (ipykernel)",
   "language": "python",
   "name": "python3"
  },
  "language_info": {
   "codemirror_mode": {
    "name": "ipython",
    "version": 3
   },
   "file_extension": ".py",
   "mimetype": "text/x-python",
   "name": "python",
   "nbconvert_exporter": "python",
   "pygments_lexer": "ipython3",
   "version": "3.10.12"
  }
 },
 "nbformat": 4,
 "nbformat_minor": 5
}
